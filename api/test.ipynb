{
 "cells": [
  {
   "cell_type": "code",
   "execution_count": 12,
   "id": "e917738b",
   "metadata": {},
   "outputs": [
    {
     "name": "stdout",
     "output_type": "stream",
     "text": [
      "           time   open   high    low  close    volume\n",
      "0    2006-11-21   4.62   5.78   4.58   5.20     56500\n",
      "1    2006-11-22   5.52   5.52   5.01   5.20     62300\n",
      "2    2006-11-23   5.58   5.58   5.01   5.51     69900\n",
      "3    2006-11-24   5.39   5.85   5.39   5.78     63600\n",
      "4    2006-11-27   5.65   6.22   5.20   5.47     42400\n",
      "...         ...    ...    ...    ...    ...       ...\n",
      "4602 2025-05-16  25.70  25.70  25.45  25.45  10697100\n",
      "4603 2025-05-19  25.45  25.70  25.30  25.40  13916200\n",
      "4604 2025-05-20  25.50  25.65  25.40  25.60  11025800\n",
      "4605 2025-05-21  25.75  25.90  25.60  25.65  12362200\n",
      "4606 2025-05-22  25.70  25.75  25.50  25.55  18033200\n",
      "\n",
      "[4607 rows x 6 columns]\n"
     ]
    }
   ],
   "source": [
    "from vnstock import Vnstock\n",
    "import time\n",
    "from datetime import datetime, timedelta\n",
    "from vnstock import Listing, Quote \n",
    "\n",
    "end_date = datetime.now()\n",
    "# start_date = end_date - timedelta(days=420)\n",
    "\n",
    "end_date_str = end_date.strftime('%Y-%m-%d')\n",
    "# # start_date_str = start_date.strftime('%Y-%m-%d')\n",
    "# stock = Vnstock().stock(symbol='ACB')\n",
    "# df =stock.quote.history(start = '2000-01-01', end= end_date_str, interval='1D')\n",
    "# df\n",
    "\n",
    "\n",
    "quote = Quote(symbol='ACB')\n",
    "df = quote.history(start='2000-01-01', end=end_date_str, interval='1D')\n",
    "print(df)"
   ]
  },
  {
   "cell_type": "code",
   "execution_count": 13,
   "id": "1f654a15",
   "metadata": {},
   "outputs": [
    {
     "name": "stdout",
     "output_type": "stream",
     "text": [
      "           time   open   high    low  close    volume\n",
      "0    2006-11-21   4.62   5.78   4.58   5.20     56500\n",
      "1    2006-11-22   5.52   5.52   5.01   5.20     62300\n",
      "2    2006-11-23   5.58   5.58   5.01   5.51     69900\n",
      "3    2006-11-24   5.39   5.85   5.39   5.78     63600\n",
      "4    2006-11-27   5.65   6.22   5.20   5.47     42400\n",
      "...         ...    ...    ...    ...    ...       ...\n",
      "4602 2025-05-16  25.70  25.70  25.45  25.45  10697100\n",
      "4603 2025-05-19  25.45  25.70  25.30  25.40  13916200\n",
      "4604 2025-05-20  25.50  25.65  25.40  25.60  11025800\n",
      "4605 2025-05-21  25.75  25.90  25.60  25.65  12362200\n",
      "4606 2025-05-22  25.70  25.75  25.50  25.55  18033200\n",
      "\n",
      "[4607 rows x 6 columns]\n"
     ]
    }
   ],
   "source": [
    "from datetime import datetime\n",
    "from vnstock import Vnstock, Quote\n",
    "\n",
    "def get(ticker):\n",
    "    end_date = datetime.now()\n",
    "    end_date_str = end_date.strftime('%Y-%m-%d')\n",
    "    \n",
    "    quote = Quote(symbol=ticker)\n",
    "    df = quote.history(start='2000-01-01', end=end_date_str, interval='1D')\n",
    "    \n",
    "    return df\n",
    "\n",
    "print(get('ACB'))"
   ]
  }
 ],
 "metadata": {
  "kernelspec": {
   "display_name": "stockqa",
   "language": "python",
   "name": "python3"
  },
  "language_info": {
   "codemirror_mode": {
    "name": "ipython",
    "version": 3
   },
   "file_extension": ".py",
   "mimetype": "text/x-python",
   "name": "python",
   "nbconvert_exporter": "python",
   "pygments_lexer": "ipython3",
   "version": "3.12.9"
  }
 },
 "nbformat": 4,
 "nbformat_minor": 5
}
